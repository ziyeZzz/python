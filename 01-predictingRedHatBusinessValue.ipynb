{
 "cells": [
  {
   "cell_type": "markdown",
   "metadata": {},
   "source": [
    "### 分类算法\n",
    "该算法能根据Red Hat的特征和活动准确识别哪些客户具有最大的潜在商业价值<br>\n",
    "https://www.kaggle.com/c/predicting-red-hat-business-value\n",
    "\n",
    "逻辑回归"
   ]
  },
  {
   "cell_type": "code",
   "execution_count": 1,
   "metadata": {},
   "outputs": [],
   "source": [
    "# read the data\n",
    "import pandas as pd\n",
    "import numpy as np\n",
    "dir = 'data/01_redHat/'\n",
    "df_people = pd.read_csv(dir+'people.csv')\n",
    "df_act_train = pd.read_csv(dir+'act_train.csv')"
   ]
  },
  {
   "cell_type": "markdown",
   "metadata": {},
   "source": [
    "### 整理数据<br>\n",
    "将数据中缺失值很多的列删掉后再合并两表"
   ]
  },
  {
   "cell_type": "code",
   "execution_count": 2,
   "metadata": {},
   "outputs": [],
   "source": [
    "# 删除act_train表缺失值太多的维度 \n",
    "x = ['date','char_1','char_2','char_3','char_4','char_5','char_6','char_7','char_8','char_9']\n",
    "df_act_train.drop(x, axis=1,inplace=True)\n",
    "#df = pd.merge(df_people,df_act_train, on='people_id')"
   ]
  },
  {
   "cell_type": "code",
   "execution_count": 3,
   "metadata": {},
   "outputs": [
    {
     "data": {
      "text/plain": [
       "people_id                 ppl_100\n",
       "activity_id          act2_1734928\n",
       "activity_category          type 4\n",
       "char_10                   type 76\n",
       "outcome                         0\n",
       "Name: 0, dtype: object"
      ]
     },
     "execution_count": 3,
     "metadata": {},
     "output_type": "execute_result"
    }
   ],
   "source": [
    "df_act_train.iloc[0] # 删除完后"
   ]
  },
  {
   "cell_type": "code",
   "execution_count": 4,
   "metadata": {},
   "outputs": [
    {
     "data": {
      "text/plain": [
       "Index(['people_id', 'activity_id', 'activity_category', 'char_10', 'outcome'], dtype='object')"
      ]
     },
     "execution_count": 4,
     "metadata": {},
     "output_type": "execute_result"
    }
   ],
   "source": [
    "df_act_train.columns"
   ]
  },
  {
   "cell_type": "code",
   "execution_count": 5,
   "metadata": {},
   "outputs": [],
   "source": [
    "# 删除people表中缺失值太多数据\n",
    "df_people.drop(['date'], axis=1, inplace=True)"
   ]
  },
  {
   "cell_type": "code",
   "execution_count": 6,
   "metadata": {},
   "outputs": [],
   "source": [
    "# join people表和act_train表\n",
    "df = pd.merge(df_people,df_act_train, on='people_id')\n",
    "# 删除对模型无用维度：people id, group_1, activity id\n",
    "df.drop(['people_id', 'group_1', 'activity_id'], axis=1, inplace=True)"
   ]
  },
  {
   "cell_type": "code",
   "execution_count": 7,
   "metadata": {},
   "outputs": [
    {
     "data": {
      "text/plain": [
       "(2197291, 41)"
      ]
     },
     "execution_count": 7,
     "metadata": {},
     "output_type": "execute_result"
    }
   ],
   "source": [
    "df.shape"
   ]
  },
  {
   "cell_type": "markdown",
   "metadata": {},
   "source": [
    "### 预处理数据\n",
    "缺失值填充、连续值归一化、类别值转换"
   ]
  },
  {
   "cell_type": "code",
   "execution_count": 8,
   "metadata": {
    "scrolled": true
   },
   "outputs": [
    {
     "data": {
      "text/plain": [
       "char_1               False\n",
       "char_2               False\n",
       "char_3               False\n",
       "char_4               False\n",
       "char_5               False\n",
       "char_6               False\n",
       "char_7               False\n",
       "char_8               False\n",
       "char_9               False\n",
       "char_10_x            False\n",
       "char_11              False\n",
       "char_12              False\n",
       "char_13              False\n",
       "char_14              False\n",
       "char_15              False\n",
       "char_16              False\n",
       "char_17              False\n",
       "char_18              False\n",
       "char_19              False\n",
       "char_20              False\n",
       "char_21              False\n",
       "char_22              False\n",
       "char_23              False\n",
       "char_24              False\n",
       "char_25              False\n",
       "char_26              False\n",
       "char_27              False\n",
       "char_28              False\n",
       "char_29              False\n",
       "char_30              False\n",
       "char_31              False\n",
       "char_32              False\n",
       "char_33              False\n",
       "char_34              False\n",
       "char_35              False\n",
       "char_36              False\n",
       "char_37              False\n",
       "char_38              False\n",
       "activity_category    False\n",
       "char_10_y             True\n",
       "outcome              False\n",
       "dtype: bool"
      ]
     },
     "execution_count": 8,
     "metadata": {},
     "output_type": "execute_result"
    }
   ],
   "source": [
    "# 缺失值处理\n",
    "df.isnull().any()"
   ]
  },
  {
   "cell_type": "code",
   "execution_count": 9,
   "metadata": {},
   "outputs": [],
   "source": [
    "# 发现char_10_y有缺失值\n",
    "#df.dropna(how=\"all\") # 将行全为NaN的删除\n",
    "df.fillna(method='pad',inplace=True)"
   ]
  },
  {
   "cell_type": "code",
   "execution_count": 10,
   "metadata": {},
   "outputs": [
    {
     "data": {
      "text/plain": [
       "char_1               object\n",
       "char_2               object\n",
       "char_3               object\n",
       "char_4               object\n",
       "char_5               object\n",
       "char_6               object\n",
       "char_7               object\n",
       "char_8               object\n",
       "char_9               object\n",
       "char_10_x              bool\n",
       "char_11                bool\n",
       "char_12                bool\n",
       "char_13                bool\n",
       "char_14                bool\n",
       "char_15                bool\n",
       "char_16                bool\n",
       "char_17                bool\n",
       "char_18                bool\n",
       "char_19                bool\n",
       "char_20                bool\n",
       "char_21                bool\n",
       "char_22                bool\n",
       "char_23                bool\n",
       "char_24                bool\n",
       "char_25                bool\n",
       "char_26                bool\n",
       "char_27                bool\n",
       "char_28                bool\n",
       "char_29                bool\n",
       "char_30                bool\n",
       "char_31                bool\n",
       "char_32                bool\n",
       "char_33                bool\n",
       "char_34                bool\n",
       "char_35                bool\n",
       "char_36                bool\n",
       "char_37                bool\n",
       "char_38               int64\n",
       "activity_category    object\n",
       "char_10_y            object\n",
       "outcome               int64\n",
       "dtype: object"
      ]
     },
     "execution_count": 10,
     "metadata": {},
     "output_type": "execute_result"
    }
   ],
   "source": [
    "df.dtypes"
   ]
  },
  {
   "cell_type": "code",
   "execution_count": 13,
   "metadata": {},
   "outputs": [
    {
     "data": {
      "text/plain": [
       "char_1               category\n",
       "char_2               category\n",
       "char_3               category\n",
       "char_4               category\n",
       "char_5               category\n",
       "char_6               category\n",
       "char_7               category\n",
       "char_8               category\n",
       "char_9               category\n",
       "char_10_x            category\n",
       "char_11              category\n",
       "char_12              category\n",
       "char_13              category\n",
       "char_14              category\n",
       "char_15              category\n",
       "char_16              category\n",
       "char_17              category\n",
       "char_18              category\n",
       "char_19              category\n",
       "char_20              category\n",
       "char_21              category\n",
       "char_22              category\n",
       "char_23              category\n",
       "char_24              category\n",
       "char_25              category\n",
       "char_26              category\n",
       "char_27              category\n",
       "char_28              category\n",
       "char_29              category\n",
       "char_30              category\n",
       "char_31              category\n",
       "char_32              category\n",
       "char_33              category\n",
       "char_34              category\n",
       "char_35              category\n",
       "char_36              category\n",
       "char_37              category\n",
       "char_38                 int64\n",
       "activity_category    category\n",
       "char_10_y            category\n",
       "outcome              category\n",
       "dtype: object"
      ]
     },
     "execution_count": 13,
     "metadata": {},
     "output_type": "execute_result"
    }
   ],
   "source": [
    "from sklearn import preprocessing\n",
    "le = preprocessing.LabelEncoder()\n",
    "# 将每一列都转换为categorical，除了char_38是连续值\n",
    "for i in df.columns:\n",
    "    if i != 'char_38':\n",
    "        #df[i] = df[i].astype('category')\n",
    "        df[i] = le.fit_transform(df[i])# 注意要先label encoder一下，不然会报错：string不能转换\n",
    "        df[i] = pd.Categorical(df[i])\n",
    "# 将char_38归一化\n",
    "max_min_scaler = lambda x:(x-np.min(x))/(np.max(x)-np.min(x))\n",
    "df[['char_38']].apply(max_min_scaler)\n",
    "\n",
    "df.dtypes"
   ]
  },
  {
   "cell_type": "markdown",
   "metadata": {},
   "source": [
    "### 切分训练、测试数据集"
   ]
  },
  {
   "cell_type": "code",
   "execution_count": 15,
   "metadata": {},
   "outputs": [],
   "source": [
    "# 将特征X和标签y分开\n",
    "x = df.iloc[:,:-1]\n",
    "y = df.iloc[:,-1]\n",
    "\n",
    "# 划分训练数据集和测试数据集\n",
    "from sklearn.model_selection import train_test_split\n",
    "x_train, x_test, y_train, y_test = train_test_split(x, y, test_size=0.3, random_state=0)"
   ]
  },
  {
   "cell_type": "markdown",
   "metadata": {},
   "source": [
    "### 拟合模型——逻辑回归"
   ]
  },
  {
   "cell_type": "code",
   "execution_count": 16,
   "metadata": {},
   "outputs": [
    {
     "data": {
      "text/plain": [
       "LogisticRegression(C=10000.0, class_weight=None, dual=False,\n",
       "          fit_intercept=True, intercept_scaling=1, max_iter=100,\n",
       "          multi_class='ovr', n_jobs=1, penalty='l2', random_state=None,\n",
       "          solver='lbfgs', tol=0.0001, verbose=0, warm_start=False)"
      ]
     },
     "execution_count": 16,
     "metadata": {},
     "output_type": "execute_result"
    }
   ],
   "source": [
    "from sklearn.linear_model import LogisticRegression\n",
    "# C是正则化的力度，1e4=10000\n",
    "# solver是用于优化的算法：‘newton-cg’, ‘lbfgs’, ‘liblinear’, ‘sag’, ‘saga’\n",
    "logreg = LogisticRegression(C=1e4, solver='lbfgs')\n",
    "logreg.fit(x_train, y_train)"
   ]
  },
  {
   "cell_type": "code",
   "execution_count": 17,
   "metadata": {},
   "outputs": [
    {
     "data": {
      "text/plain": [
       "{'C': 10000.0,\n",
       " 'class_weight': None,\n",
       " 'dual': False,\n",
       " 'fit_intercept': True,\n",
       " 'intercept_scaling': 1,\n",
       " 'max_iter': 100,\n",
       " 'multi_class': 'ovr',\n",
       " 'n_jobs': 1,\n",
       " 'penalty': 'l2',\n",
       " 'random_state': None,\n",
       " 'solver': 'lbfgs',\n",
       " 'tol': 0.0001,\n",
       " 'verbose': 0,\n",
       " 'warm_start': False}"
      ]
     },
     "execution_count": 17,
     "metadata": {},
     "output_type": "execute_result"
    }
   ],
   "source": [
    "# 获得模型的参数\n",
    "logreg.get_params()"
   ]
  },
  {
   "cell_type": "code",
   "execution_count": 18,
   "metadata": {},
   "outputs": [
    {
     "data": {
      "text/plain": [
       "0.8212164056384521"
      ]
     },
     "execution_count": 18,
     "metadata": {},
     "output_type": "execute_result"
    }
   ],
   "source": [
    "# 为模型打分\n",
    "logreg.score(x_test, y_test)"
   ]
  },
  {
   "cell_type": "code",
   "execution_count": 19,
   "metadata": {},
   "outputs": [
    {
     "data": {
      "text/plain": [
       "array([0.82046881, 0.82124474, 0.82094597])"
      ]
     },
     "execution_count": 19,
     "metadata": {},
     "output_type": "execute_result"
    }
   ],
   "source": [
    "# 交叉验证\n",
    "from sklearn.model_selection import cross_val_score\n",
    "cross_val_score(logreg, x_train, y_train, cv=3, scoring='accuracy')"
   ]
  }
 ],
 "metadata": {
  "kernelspec": {
   "display_name": "Python 3",
   "language": "python",
   "name": "python3"
  },
  "language_info": {
   "codemirror_mode": {
    "name": "ipython",
    "version": 3
   },
   "file_extension": ".py",
   "mimetype": "text/x-python",
   "name": "python",
   "nbconvert_exporter": "python",
   "pygments_lexer": "ipython3",
   "version": "3.7.0"
  }
 },
 "nbformat": 4,
 "nbformat_minor": 2
}
